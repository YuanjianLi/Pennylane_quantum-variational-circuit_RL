{
 "cells": [
  {
   "cell_type": "code",
   "execution_count": 11,
   "metadata": {},
   "outputs": [],
   "source": [
    "import pennylane as qml\n",
    "from matplotlib import pyplot as plt\n",
    "from pennylane import numpy as np\n",
    "import math\n",
    "import matplotlib.pyplot as plt\n",
    "from matplotlib import animation\n",
    "from IPython.display import display\n",
    "from tqdm.notebook import tqdm\n",
    "from collections import deque\n",
    "\n",
    "from models.agentQVC import AgentQVC\n",
    "from utils.maze import *\n",
    "\n",
    "np.random.seed(42)"
   ]
  },
  {
   "cell_type": "code",
   "execution_count": 12,
   "metadata": {},
   "outputs": [
    {
     "name": "stdout",
     "output_type": "stream",
     "text": [
      "Maze layout:\n",
      "['R', 'P', ' ', 'r']\n",
      "[' ', 'P', ' ', ' ']\n",
      "[' ', 'P', ' ', ' ']\n",
      "[' ', ' ', ' ', ' ']\n",
      "\n",
      "Maze reward:\n",
      "[[  50. -100.    0.   10.]\n",
      " [   0. -100.    0.    0.]\n",
      " [   0. -100.    0.    0.]\n",
      " [   0.    0.    0.    0.]]\n"
     ]
    }
   ],
   "source": [
    "# Setting up maze environment\n",
    "maze_width=4\n",
    "maze_height=4\n",
    "maze_layout=np.zeros((maze_height, maze_width))\n",
    "maze_display=[[\" \" for i in range(maze_width)] for j in range(maze_height)]\n",
    "\n",
    "# # environment for 8 x 8 (H x W)\n",
    "# maze_display[0][0]='R'\n",
    "# maze_layout[0][0]=100\n",
    "# maze_display[5][4]='r'\n",
    "# maze_layout[5][4]=20\n",
    "# maze_display[2][4]='r'\n",
    "# maze_layout[2][4]=20\n",
    "# maze_display[0][7]='r'\n",
    "# maze_layout[0][7]=20\n",
    "# maze_display[2][3]='P'\n",
    "# maze_layout[2][3]=-100\n",
    "# maze_display[6][3]='P'\n",
    "# maze_layout[6][3]=-100\n",
    "# maze_display[2][6]='P'\n",
    "# maze_layout[2][6]=-100\n",
    "# maze_display[0][1]='W'\n",
    "# maze_display[1][1]='W'\n",
    "# maze_display[2][1]='W'\n",
    "# maze_display[3][1]='W'\n",
    "\n",
    "# environment for 4 x 4 (H x W)\n",
    "maze_display[0][0]='R'\n",
    "maze_layout[0][0]=50\n",
    "maze_display[0][1]='P'\n",
    "maze_layout[0][1]=-100\n",
    "maze_display[1][1]='P'\n",
    "maze_layout[1][1]=-100\n",
    "maze_display[2][1]='P'\n",
    "maze_layout[2][1]=-100\n",
    "maze_display[0][3]='r'\n",
    "maze_layout[0][3]=10\n",
    "\n",
    "# # environment for 2 x 2 (H x W)\n",
    "# maze_display[0][0]='R'\n",
    "# maze_layout[0][0]=100\n",
    "# maze_display[0][1]='P'\n",
    "# maze_layout[0][1]=-50\n",
    "\n",
    "# print out the maze\n",
    "print(\"Maze layout:\")\n",
    "for i in range(len(maze_display)):\n",
    "    print(maze_display[i])\n",
    "\n",
    "print()\n",
    "print(\"Maze reward:\")\n",
    "print(maze_layout)"
   ]
  },
  {
   "cell_type": "code",
   "execution_count": 13,
   "metadata": {},
   "outputs": [
    {
     "name": "stdout",
     "output_type": "stream",
     "text": [
      "(4, 4)\n",
      "(4, 4)\n"
     ]
    }
   ],
   "source": [
    "print(np.shape(maze_display))\n",
    "print(np.shape(maze_layout))\n",
    "maze=Maze(maze_display,maze_layout)"
   ]
  },
  {
   "cell_type": "code",
   "execution_count": 14,
   "metadata": {},
   "outputs": [],
   "source": [
    "# configurations\n",
    "numFrame=50\n",
    "numSucceed=1000 # number of epochs it reaches the target\n",
    "numEpoch=int(100000)\n",
    "numRecordStep=int(1000)\n",
    "\n",
    "alpha=0.1\n",
    "gamma=0.9 \n",
    "epsilon_max=1.0\n",
    "epsilon_min=0.5\n",
    "epsilon_halflife=300\n",
    "memory_size=1000\n",
    "memory_sampling=10\n",
    "update_freq=20\n",
    "\n",
    "depth = 2 # number of layers in unitary matrix of quantum circuit\n",
    "numQubits_width = int(math.log(maze_width,2))\n",
    "numQubits_height = int(math.log(maze_height,2))\n",
    "numQubits = numQubits_width+numQubits_height\n",
    "# Initialize the parameters, with Gaus(0, 0.1) distribution\n",
    "# init_weights = 0.1 * np.array(np.random.randn(depth, numQubits, 3), requires_grad=True)\n",
    "# init_bias = 0.1 * np.array(np.random.randn(numQubits), requires_grad=True)\n",
    "init_params = 0.1 * np.array(np.random.randn(depth * numQubits * 3 + len(maze.action_space())), requires_grad=True)"
   ]
  },
  {
   "cell_type": "code",
   "execution_count": 15,
   "metadata": {},
   "outputs": [],
   "source": [
    "# defining a basic block\n",
    "def layer(W):\n",
    "    for j in range(numQubits - 1):\n",
    "        qml.CNOT(wires=[j, j + 1])\n",
    "    for i in range(numQubits):\n",
    "        qml.Rot(W[i, 0], W[i, 1], W[i, 2], wires=i)\n",
    "        \n",
    "# defining the quantum circuit, in which the number of layers depends on the number of weights taken\n",
    "def circuit(weights, state=None):\n",
    "    if((state==np.ones(numQubits)).all()):\n",
    "        for i in range(numQubits):\n",
    "            qml.PauliX(i)\n",
    "    elif((state==np.zeros(numQubits)).all()):\n",
    "        pass\n",
    "    else:\n",
    "        qml.templates.embeddings.BasisEmbedding(np.array(state, requires_grad=False), wires=range(numQubits))\n",
    "    for W in weights:\n",
    "        layer(W)\n",
    "    return qml.expval(qml.PauliZ(0)),qml.expval(qml.PauliZ(1)),qml.expval(qml.PauliZ(2)),qml.expval(qml.PauliZ(3))\n",
    "\n",
    "dev = qml.device(\"default.qubit\", wires=numQubits)\n",
    "qcircuit = qml.QNode(circuit, dev)\n",
    "\n",
    "# defining a variational circuit for each one-vs-all classifier, where an additional classical bias term is added\n",
    "def variational_learner(params, state):\n",
    "    weights = params[:depth * numQubits * 3]\n",
    "    weights = weights.reshape(depth, numQubits, 3)\n",
    "    bias = params[-len(maze.action_space()):]\n",
    "    return qcircuit(weights, state=state) + bias\n",
    "\n",
    "agent=AgentQVC(maze, variational_learner, init_params, alpha=alpha, gamma=gamma, epsilon_max=epsilon_max, epsilon_min=epsilon_min, epsilon_halflife=epsilon_halflife, memory_size=memory_size, memory_sampling=memory_sampling, update_freq=update_freq)\n"
   ]
  },
  {
   "cell_type": "code",
   "execution_count": 16,
   "metadata": {},
   "outputs": [],
   "source": [
    "def run_episode(env, agent):  \n",
    "    \"\"\"Runs the env for a certain amount of steps with the given parameters. Returns the reward obtained\"\"\"\n",
    "    state = env.reset()\n",
    "    totalreward = 0\n",
    "    for _ in range(numFrame):\n",
    "        state, reward, done = agent.train(state)  \n",
    "        totalreward += reward\n",
    "        if done:\n",
    "            break\n",
    "    return totalreward, done\n"
   ]
  },
  {
   "cell_type": "code",
   "execution_count": 17,
   "metadata": {
    "scrolled": false
   },
   "outputs": [
    {
     "data": {
      "application/vnd.jupyter.widget-view+json": {
       "model_id": "b20a1040918c446fb384e5cedfe0ea29",
       "version_major": 2,
       "version_minor": 0
      },
      "text/plain": [
       "HBox(children=(FloatProgress(value=0.0, description='Number of success', max=1000.0, style=ProgressStyle(descr…"
      ]
     },
     "metadata": {},
     "output_type": "display_data"
    },
    {
     "data": {
      "application/vnd.jupyter.widget-view+json": {
       "model_id": "4843e5eb2fa7494e835717df7790818c",
       "version_major": 2,
       "version_minor": 0
      },
      "text/plain": [
       "HBox(children=(FloatProgress(value=0.0, description='Epoch', max=100000.0, style=ProgressStyle(description_wid…"
      ]
     },
     "metadata": {},
     "output_type": "display_data"
    },
    {
     "name": "stdout",
     "output_type": "stream",
     "text": [
      "\n",
      "\n",
      "Finished running and didn't meet requirement, but solution was found 1000 times. =) \n",
      "\n",
      "The best reward was 44.0 steps.\n",
      "#################################\n",
      "#                               #\n",
      "#        Done training!!        #\n",
      "#                               #\n",
      "#################################\n"
     ]
    }
   ],
   "source": [
    "epoch_list=[]\n",
    "reward_list=[]\n",
    "reward_microlist=[]\n",
    "bestreward = 0\n",
    "succeed = 0\n",
    "\n",
    "agent.train_mode(True)\n",
    "with tqdm(total=numSucceed, desc='Number of success', position=0) as succeedbar:\n",
    "    for i in tqdm(range(numEpoch), desc='Epoch', position=1):  \n",
    "        reward, done = run_episode(maze, agent)\n",
    "        reward_microlist.append(reward.item())\n",
    "        if reward > bestreward:\n",
    "            bestreward = reward\n",
    "            # considered solved if the agent lasts for the required number of timesteps\n",
    "#         if(done):\n",
    "        if(reward > 40):\n",
    "            succeed+=1\n",
    "            succeedbar.update(1)\n",
    "            if(succeed==numSucceed):\n",
    "                break\n",
    "        if(i%numRecordStep==0):\n",
    "            reward_list.append(np.mean(reward_microlist))\n",
    "            epoch_list.append(i)\n",
    "            reward_microlist=[]\n",
    "        \n",
    "if (succeed==numSucceed):\n",
    "    print(\"Finished running and solution found in epoch # {}! =D \\n\".format(i)) # first epoch starts from label 0\n",
    "elif (succeed!=0):\n",
    "    print(\"Finished running and didn't meet requirement, but solution was found {} times. =) \\n\".format(numSucceed)) # first epoch starts from label 0\n",
    "else:\n",
    "    print(\"Finished running but solution not found. =\\\\ \\n\")\n",
    "print(\"The best reward was {} steps.\".format(bestreward))\n",
    "        \n",
    "print(\"#################################\")\n",
    "print(\"#                               #\")\n",
    "print(\"#        Done training!!        #\")\n",
    "print(\"#                               #\")\n",
    "print(\"#################################\")"
   ]
  },
  {
   "cell_type": "code",
   "execution_count": 18,
   "metadata": {},
   "outputs": [
    {
     "data": {
      "text/plain": [
       "(-479.98040000000003, -251.2916)"
      ]
     },
     "execution_count": 18,
     "metadata": {},
     "output_type": "execute_result"
    },
    {
     "data": {
      "image/png": "[encoded data removed]",
      "text/plain": [
       "<Figure size 432x288 with 1 Axes>"
      ]
     },
     "metadata": {
      "needs_background": "light"
     },
     "output_type": "display_data"
    }
   ],
   "source": [
    "plt.plot(epoch_list[1:], reward_list[1:])\n",
    "plt.xlabel(\"Epoch\")\n",
    "plt.ylabel(\"Reward\")\n",
    "maximum=np.amax(reward_list[1:])\n",
    "minimum=np.amin(reward_list[1:])\n",
    "diff=maximum-minimum\n",
    "plt.ylim([minimum-diff*.1,maximum+diff*.1])\n",
    "# plt.savefig('reward_vs_epoch.png')\n",
    "# del epoch_list, reward_list"
   ]
  },
  {
   "cell_type": "code",
   "execution_count": null,
   "metadata": {},
   "outputs": [],
   "source": []
  }
 ],
 "metadata": {
  "kernelspec": {
   "display_name": "Python 3",
   "language": "python",
   "name": "python3"
  },
  "language_info": {
   "codemirror_mode": {
    "name": "ipython",
    "version": 3
   },
   "file_extension": ".py",
   "mimetype": "text/x-python",
   "name": "python",
   "nbconvert_exporter": "python",
   "pygments_lexer": "ipython3",
   "version": "3.6.10"
  }
 },
 "nbformat": 4,
 "nbformat_minor": 4
}
